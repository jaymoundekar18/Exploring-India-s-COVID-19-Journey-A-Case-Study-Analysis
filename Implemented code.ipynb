{
 "cells": [
  {
   "cell_type": "markdown",
   "id": "cdaff029",
   "metadata": {},
   "source": [
    "### Exploring_India's_COVID_19_Journey_A_Case_Study_Analysis"
   ]
  },
  {
   "cell_type": "markdown",
   "id": "88488882",
   "metadata": {},
   "source": [
    "### Python Code"
   ]
  },
  {
   "cell_type": "code",
   "execution_count": null,
   "id": "53077496",
   "metadata": {},
   "outputs": [],
   "source": [
    "import pandas as pd\n",
    "import warnings\n",
    "warnings.filterwarnings(\"ignore\")\n",
    "\n",
    "#Task1\n",
    "#Loading the data\n",
    "def read_data_from_csv():\n",
    "    #Read the dataset\n",
    "    df = pd.read_csv('agedistribution_2016_estimates.csv')\n",
    "    return df"
   ]
  },
  {
   "cell_type": "code",
   "execution_count": null,
   "id": "e14bab7a",
   "metadata": {},
   "outputs": [],
   "source": [
    "#Task 2: Renaming the Columns\n",
    "def rename_columns():\n",
    "    data=read_data_from_csv()\n",
    "\n",
    "    # Rename the column names\n",
    "    data.rename(columns={'Age': 'Age_group', 'M': 'Male', 'F': 'Female', 'Tot': 'Total'}, inplace=True)\n",
    "\n",
    "    # Export cleaned dataset to a new CSV file named \"agedistribution_2016_estimates_cleaned.csv\"\n",
    "    data.to_csv('agedistribution_2016_estimates_cleaned.csv', index=False)\n",
    "\n",
    "    # export cleaned Dataset to newcsv file named \"agedistribution_2016_estimates_cleaned.csv\"\n",
    "    return data\n",
    "\n",
    "#Do not Delete the Following function\n",
    "def task_runner():\n",
    "    rename_columns()"
   ]
  },
  {
   "cell_type": "code",
   "execution_count": null,
   "id": "a672ce22",
   "metadata": {},
   "outputs": [],
   "source": [
    "# Task 3\n",
    "\n",
    "import pandas as pd\n",
    "import warnings\n",
    "\n",
    "warnings.filterwarnings(\"ignore\")\n",
    "\n",
    "# Loading the data\n",
    "def read_data_from_csv():\n",
    "    df = pd.read_csv('death_and_recovery.csv')\n",
    "    return df"
   ]
  },
  {
   "cell_type": "code",
   "execution_count": null,
   "id": "f7874239",
   "metadata": {},
   "outputs": [],
   "source": [
    "# Task 4\n",
    "\n",
    "def data_cleaning():\n",
    "    # Call read_data_from_csv() function to get the dataframe\n",
    "    data = read_data_from_csv()\n",
    "\n",
    "    # Remove unwanted columns (comorbidity, State_code)\n",
    "    unwanted_columns = ['comorbidity', 'State_code']\n",
    "    data = data.drop(columns=unwanted_columns)\n",
    "\n",
    "    # Export cleaned dataset to a new CSV file named \"death_and_recovery_cleaned.csv\"\n",
    "    data.to_csv('death_and_recovery_cleaned.csv', index=False)\n",
    "\n",
    "    return data\n",
    "\n",
    "# Do not delete the following function\n",
    "def task_runner():\n",
    "    data_cleaning()\n",
    "    "
   ]
  },
  {
   "cell_type": "code",
   "execution_count": null,
   "id": "eae0092d",
   "metadata": {},
   "outputs": [],
   "source": [
    "# Task 5\n",
    "\n",
    "import pandas as pd\n",
    "import warnings\n",
    "warnings.filterwarnings(\"ignore\")\n",
    "\n",
    "def read_data_from_csv():\n",
    "    # Read the dataset\n",
    "    df = pd.read_csv('hospitalbeds.csv')\n",
    "    return df"
   ]
  },
  {
   "cell_type": "code",
   "execution_count": null,
   "id": "8f91c866",
   "metadata": {},
   "outputs": [],
   "source": [
    "# Task 6: Renaming the Columns\n",
    "def rename_columns():\n",
    "    data = read_data_from_csv()\n",
    "\n",
    "    # Rename the columns\n",
    "    data = data.rename(columns={'serial': 'sno',  'state': 'State_UT', 'Hosp_Aval': 'Hospitals_Available', 'Beds_Aval': 'Beds_Available', 'Pop_beds': 'Population_beds'})\n",
    "\n",
    "    # Export cleaned Dataset to a new CSV file named \"hospitalbeds_cleaned.csv\"\n",
    "    data.to_csv('hospitalbeds_cleaned.csv', index=False)\n",
    "\n",
    "    return data\n",
    "\n",
    "# Do not delete the following function\n",
    "def task_runner():\n",
    "    rename_columns()"
   ]
  },
  {
   "cell_type": "code",
   "execution_count": null,
   "id": "3ea63366",
   "metadata": {},
   "outputs": [],
   "source": [
    "# Task 7\n",
    "\n",
    "import pandas as pd\n",
    "import warnings\n",
    "warnings.filterwarnings(\"ignore\")\n",
    "\n",
    "\n",
    "# Loading the data\n",
    "def read_data_from_csv():\n",
    "    df = pd.read_csv('statewisedata.csv')\n",
    "    return df"
   ]
  },
  {
   "cell_type": "code",
   "execution_count": null,
   "id": "1bf002d7",
   "metadata": {},
   "outputs": [],
   "source": [
    "# Task 8\n",
    "\n",
    "def data_cleaning():\n",
    "    # Call remove_unwanted_columns() function to get dataframe\n",
    "    data = read_data_from_csv()\n",
    "\n",
    "    # Remove unwanted columns (Delta_Confirmed, Delta_Recovered, Delta_Deaths)\n",
    "    data = data.drop(['Delta_Confirmed', 'Delta_Recovered', 'Delta_Deaths'], axis=1)\n",
    "\n",
    "    # Export cleaned Dataset to new CSV file named \"statewisedata_cleaned.csv\"\n",
    "    data.to_csv('statewisedata_cleaned.csv', index=False)\n",
    "\n",
    "    return data\n",
    "\n",
    "# Do not Delete the Following function\n",
    "def task_runner():\n",
    "    data_cleaning()"
   ]
  },
  {
   "cell_type": "markdown",
   "id": "451c381d",
   "metadata": {},
   "source": [
    "### MYSQL Code"
   ]
  },
  {
   "cell_type": "markdown",
   "id": "c78dca8f",
   "metadata": {},
   "source": [
    "#### Task1\n",
    "\n",
    "Write an SQL query to solve the given problem statement.\n",
    "\n",
    "Display the states, gender affected and the confirmed cases in their respective states where confirmed cases are more than 100.\n",
    "\n",
    "\n",
    "#### SELECT statewisedata.State_UT, death_and_recovery.Gender, statewisedata.Confirmed FROM statewisedata JOIN death_and_recovery ON statewisedata.State_UT = death_and_recovery.State WHERE statewisedata.Confirmed > 100 GROUP BY State_UT LIMIT 9; "
   ]
  },
  {
   "cell_type": "markdown",
   "id": "bccd2985",
   "metadata": {},
   "source": [
    "#### Task2\n",
    "\n",
    "Write an SQL query to solve the given problem statement.\n",
    "Which states have collected more than 1000 samples in a day? Provide the serial number, state name, and the total number of samples tested for each state, using data from the 'icmrtestingdata' and 'statewisedata' tables.\n",
    "\n",
    "#### SELECT icmrtestingdata.sno, statewisedata.State_UT, icmrtestingdata.TotalSamplesTested FROM icmrtestingdata JOIN statewisedata ON icmrtestingdata.sno = statewisedata.sno WHERE icmrtestingdata.TotalSamplesTested > 1000;"
   ]
  },
  {
   "cell_type": "markdown",
   "id": "4a50b341",
   "metadata": {},
   "source": [
    "#### Task3\n",
    " \n",
    "Write an SQL query to solve the given problem statement.\n",
    "Display the patient status in each state from the death_and_recovery table\n",
    "\n",
    "#### SELECT t1.Patient_status, t2.City, t1.Age FROM death_and_recovery AS t1 JOIN death_and_recovery AS t2 ON t1.State = t2.State ORDER BY t2.State ASC, t1.Age DESC;"
   ]
  },
  {
   "cell_type": "markdown",
   "id": "3244b59c",
   "metadata": {},
   "source": [
    "#### Task4\t\n",
    "\n",
    "Write an SQL query to solve the given problem statement.\n",
    "Display the hospital beds along with their location where patients have recovered from covid-19 and those beds are made available to the needy patients waiting in the queue to get admitted.\n",
    "\n",
    "#### SELECT hb.Beds_Available, dr.Patient_Status, dr.State, dr.City FROM death_and_recovery dr JOIN hospitalbeds hb ON dr.State = hb.State_UT WHERE dr.Patient_Status = 'Recovered' AND hb.Beds_Available > 0;"
   ]
  },
  {
   "cell_type": "markdown",
   "id": "7a7a17c0",
   "metadata": {},
   "source": [
    "#### Task5\n",
    "\n",
    "Write an SQL query to solve the given problem statement.\n",
    "Display the total number of people in assam who have recovered\n",
    "\n",
    "#### SELECT COUNT(*) AS total_recovered FROM death_and_recovery WHERE State = 'Assam' AND Patient_status = 'Recovered';"
   ]
  },
  {
   "cell_type": "markdown",
   "id": "ea18a7c0",
   "metadata": {},
   "source": [
    "#### Task6\n",
    "\n",
    "Write an SQL query to solve the given problem statement.\n",
    "Show the state, hospitals and beds available where population beds and hospitals available are more than 1000.\n",
    "\n",
    "#### SELECT State_UT, Hospitals_Available, Beds_Available FROM hospitalbeds WHERE Hospitals_Available > 1000 AND Population_beds > 1000;"
   ]
  },
  {
   "cell_type": "markdown",
   "id": "21f30718",
   "metadata": {},
   "source": [
    "#### Task7\n",
    "\n",
    "Write an SQL query to solve the given problem statement.\n",
    "Show states where active cases are less than 50.\n",
    "\n",
    "#### SELECT State_UT FROM statewisedata WHERE Active < 50;"
   ]
  },
  {
   "cell_type": "markdown",
   "id": "7cf04775",
   "metadata": {},
   "source": [
    "#### Task8\n",
    "\n",
    "Write an SQL query to solve the given problem statement.\n",
    "Which dates are associated with the availability of beds, as captured in the 'datewisepatients' and 'hospitalbeds' tables?\n",
    "\n",
    "#### SELECT Distinct dw.date, hb.Beds_Available FROM datewisepatients AS dw CROSS JOIN hospitalbeds AS hb;"
   ]
  },
  {
   "cell_type": "markdown",
   "id": "7b79b99f",
   "metadata": {},
   "source": [
    "#### 9\n",
    "\n",
    "Write an SQL query to solve the given problem statement.\n",
    "Show the details of the number of samples tested across each timestamp\n",
    "\n",
    "#### SELECT UpdatedTimeStamp, SUM(TotalSamplesTested) AS TotalSamplesTested FROM icmrtestingdata WHERE UpdatedTimeStamp IS NOT NULL AND TotalSamplesTested IS NOT NULL GROUP BY UpdatedTimeStamp;"
   ]
  },
  {
   "cell_type": "markdown",
   "id": "8bf7998a",
   "metadata": {},
   "source": [
    "#### Task10\n",
    "\n",
    "Write an SQL query to solve the given problem statement. Display the number of males and females who have recovered\n",
    "\n",
    "#### SELECT Gender, COUNT(*) AS RecoveryCount FROM death_and_recovery WHERE Patient_Status = 'Recovered' GROUP BY Gender;"
   ]
  },
  {
   "cell_type": "markdown",
   "id": "b58d6198",
   "metadata": {},
   "source": [
    "#### Task11\n",
    "\n",
    "Write an SQL query to solve the given problem statement. List the states where the population is greater than the number of beds available in descending order of serial number.\n",
    "\n",
    "#### SELECT State_UT, Beds_Available  FROM hospitalbeds WHERE Population_beds > Beds_Available ORDER BY sno DESC;"
   ]
  },
  {
   "cell_type": "markdown",
   "id": "e3b5d722",
   "metadata": {},
   "source": [
    "#### Task12\n",
    "\n",
    "Write an SQL query to solve the given problem statement. What is the total number of samples tested, total number of positive cases, and the difference between the total samples tested and total positive cases in the 'icmrtestingdata' table?\n",
    "\n",
    "#### SELECT TotalSamplesTested, TotalPositiveCases, (TotalSamplesTested - TotalPositiveCases) AS Difference FROM icmrtestingdata; "
   ]
  },
  {
   "cell_type": "markdown",
   "id": "06b57652",
   "metadata": {},
   "source": [
    "#### Task13\n",
    "\n",
    "Write an SQL query to solve the given problem statement. Find the number of hospital beds available in each state.\n",
    "\n",
    "#### SELECT State_UT, SUM(Beds_Available) AS TotalBedsAvailable FROM hospitalbeds GROUP BY State_UT;"
   ]
  },
  {
   "cell_type": "markdown",
   "id": "94a4461e",
   "metadata": {},
   "source": [
    "#### Task14\n",
    "\n",
    "Write an SQL query to solve the given problem statement. Display the total number of beds available in Tamil Nadu\n",
    "\n",
    "#### SELECT SUM(Beds_Available) AS TotalBedsAvailable FROM hospitalbeds WHERE State_UT = 'Tamil Nadu';"
   ]
  },
  {
   "cell_type": "markdown",
   "id": "b87466c7",
   "metadata": {},
   "source": [
    "#### Task15\n",
    "\n",
    "Write an SQL query to solve the given problem statement. Display the total number of beds available in India.\n",
    "\n",
    "#### SELECT SUM(Beds_Available) AS TotalBedsAvailable FROM hospitalbeds;\n",
    "\n",
    "\n",
    "#### Task16\n",
    "\n",
    "Write an SQL query to solve the given problem statement. What are the distinct values of 'TotalSamplesTested',  'TotalPositiveCases', and 'UpdatedTimeStamp' in the 'icmrtestingdata' table?\n",
    "\n",
    "#### SELECT DISTINCT TotalSamplesTested, TotalPositiveCases, UpdatedTimeStamp FROM icmrtestingdata;"
   ]
  },
  {
   "cell_type": "markdown",
   "id": "239743c1",
   "metadata": {},
   "source": [
    "#### Task17\n",
    "\n",
    "Write an SQL query to solve the given problem statement. Display the total confirmed cases till 31-March in Maharashtra.\n",
    "\n",
    "#### SELECT SUM(Confirmed) AS TotalConfirmedCases, State_UT FROM statewisedata WHERE State_UT = 'Maharashtra' AND Last_Updad_time <= '2023-03-31';"
   ]
  },
  {
   "cell_type": "markdown",
   "id": "ff712ef7",
   "metadata": {},
   "source": [
    "#### Task18\n",
    "\n",
    "Write an SQL query to solve the given problem statement. Calculate the summing distribution of males and females aged 0 to 49 who have been impacted by COVID-19.\n",
    "\n",
    "#### SELECT SUM(Male), SUM(Female)  FROM agedistribution_2016_estimates WHERE Age_group IN ('0-4', '15-19', '20-24', '25-29', '30-34', '35-39', '40-44', '45-49');"
   ]
  },
  {
   "cell_type": "markdown",
   "id": "8af035bb",
   "metadata": {},
   "source": [
    "#### Task19\n",
    "\n",
    "Write an SQL query to solve the given problem statement. Find out the recovery rate among the states and display it along with the names of the states and the number of recovered & active cases.\n",
    "\n",
    "#### SELECT Recovered, Active, State_UT, (Recovered/Active)*100 FROM statewisedata;"
   ]
  },
  {
   "cell_type": "markdown",
   "id": "5e4c2283",
   "metadata": {},
   "source": [
    "#### Task20\n",
    "\n",
    "Write an SQL query to solve the given problem statement. Display the states along with the ratio of Beds available against the total population beds\n",
    "\n",
    "#### SELECT State_UT,   Beds_Available,   Population_beds,   Beds_Available / Population_beds AS Bed_Ratio hospitalbeds;"
   ]
  },
  {
   "cell_type": "markdown",
   "id": "fe2ff3a9",
   "metadata": {},
   "source": [
    "#### Task21\n",
    "\n",
    "21.\tWrite an SQL query to solve the given problem statement. What are the different patient statuses and the corresponding cities recorded in the 'death_and_recovery' table, after joining it with the 'statewisedata' table based on the matching State_UT values?\n",
    "\n",
    "#### SELECT DISTINCT d.Patient_status, d.City FROM death_and_recovery d JOIN statewisedata s ON d.State = s.State_UT WHERE d.Age IS NOT NULL;"
   ]
  }
 ],
 "metadata": {
  "kernelspec": {
   "display_name": "Python 3 (ipykernel)",
   "language": "python",
   "name": "python3"
  },
  "language_info": {
   "codemirror_mode": {
    "name": "ipython",
    "version": 3
   },
   "file_extension": ".py",
   "mimetype": "text/x-python",
   "name": "python",
   "nbconvert_exporter": "python",
   "pygments_lexer": "ipython3",
   "version": "3.9.13"
  }
 },
 "nbformat": 4,
 "nbformat_minor": 5
}
